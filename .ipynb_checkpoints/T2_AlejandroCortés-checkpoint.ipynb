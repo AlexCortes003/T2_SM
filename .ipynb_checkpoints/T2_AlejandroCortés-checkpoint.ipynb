{
 "cells": [
  {
   "cell_type": "markdown",
   "metadata": {},
   "source": [
    "<img style=\"float: right; margin: 0px 40px px 200px;\" src=\"https://www.iteso.mx/lfportal-publico-theme/images/img/logos/Logo-ITESO-MinimoV.png\" width=\"100px\"  />\n",
    "\n",
    "### *Simulación matemática*\n",
    "\n",
    "\n",
    "# <font color=#3241A1>Tarea de Github</font> \n",
    "___"
   ]
  },
  {
   "cell_type": "markdown",
   "metadata": {},
   "source": [
    "El artículo empieza hablando de algunas ventajas de python, menciona que es un lenguaje de alto impacto, por lo que es muy fácil aprender a programar. Posteriormente brinda 7 razones por las cuales te recomienda usarlo\n",
    "\n",
    "__1.\tReadable and maintainable code__\n",
    "\n",
    "Este consejo habla de lo fácil que es leer python, pues, a diferencia de otros programas, se utilizan palabras en inglés en lugar de símbolos, lo que lo hace más entendible.\n",
    "\n",
    "2.\tMultiple programming paradigms\n",
    "\n",
    "En este apartado se menciona que Python tiene estructuralmente ventajas y especializaciones, una de ellas es ser orientada a objetos, además habla de algunos tecnicismos sobre el manejo de memoria de Python.\n",
    "\n",
    "3.\tCompatible with major platforms and systems\n",
    "\n",
    "Como el título lo menciona, en esta sección se habla de la ventaja de usar Python debido a su alta compatibilidad con otras plataformas de ayuda.\n",
    "\n",
    "4.\tRobust standard library\n",
    "\n",
    "Una gran ventaja de pthon es su comunidad, ya que sube gran cantidad de librerías. Dependiendo tu trabajo es la librería que puedes usar, ya que existen algunas muy especializadas.\n",
    "\n",
    "5.\tMany open source frameworks and tools\n",
    "\n",
    "Python ofrece una gran cantidad de herramientas y apoyos totalmente gratis, esto hace que sea un lenguaje bastante útil.\n",
    "\n",
    "6.\tSimplify complex software development\n"
   ]
  },
  {
   "cell_type": "code",
   "execution_count": null,
   "metadata": {},
   "outputs": [],
   "source": []
  }
 ],
 "metadata": {
  "kernelspec": {
   "display_name": "Python 3",
   "language": "python",
   "name": "python3"
  },
  "language_info": {
   "codemirror_mode": {
    "name": "ipython",
    "version": 3
   },
   "file_extension": ".py",
   "mimetype": "text/x-python",
   "name": "python",
   "nbconvert_exporter": "python",
   "pygments_lexer": "ipython3",
   "version": "3.7.6"
  }
 },
 "nbformat": 4,
 "nbformat_minor": 4
}
