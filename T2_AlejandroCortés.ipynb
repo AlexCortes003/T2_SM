{
 "cells": [
  {
   "cell_type": "markdown",
   "metadata": {},
   "source": [
    "<img style=\"float: right; margin: 0px 40px px 200px;\" src=\"https://www.iteso.mx/lfportal-publico-theme/images/img/logos/Logo-ITESO-MinimoV.png\" width=\"100px\"  />\n",
    "\n",
    "### *Simulación matemática*\n",
    "\n",
    "\n",
    "# <font color=#3241A1>Tarea de Github</font> \n",
    "___\n",
    "\n",
    "# <font color=#0B5513>Python: 7 Important Reasons Why You Should Use Python</font> \n",
    "\n",
    "El artículo empieza hablando de algunas ventajas de python, menciona que es un lenguaje de alto impacto, por lo que es muy fácil aprender a programar. Posteriormente brinda 7 razones por las cuales te recomienda usarlo\n",
    "\n",
    "__1.\tReadable and maintainable code__\n",
    "\n",
    "Este consejo habla de lo fácil que es leer python, pues, a diferencia de otros programas, se utilizan palabras en inglés en lugar de símbolos, lo que lo hace más entendible.\n",
    "\n",
    "__2.\tMultiple programming paradigms__\n",
    "\n",
    "En este apartado se menciona que Python tiene estructuralmente ventajas y especializaciones, una de ellas es ser orientada a objetos, además habla de algunos tecnicismos sobre el manejo de memoria de Python.\n",
    "\n",
    "__3.\tCompatible with major platforms and systems__\n",
    "\n",
    "Como el título lo menciona, en esta sección se habla de la ventaja de usar Python debido a su alta compatibilidad con otras plataformas de ayuda.\n",
    "\n",
    "__4.\tRobust standard library__\n",
    "\n",
    "Una gran ventaja de pthon es su comunidad, ya que sube gran cantidad de librerías. Dependiendo tu trabajo es la librería que puedes usar, ya que existen algunas muy especializadas.\n",
    "\n",
    "__5.\tMany open source frameworks and tools__\n",
    "\n",
    "Python ofrece una gran cantidad de herramientas y apoyos totalmente gratis, esto hace que sea un lenguaje bastante útil.\n",
    "\n",
    "__6.\tSimplify complex software development__\n",
    "\n",
    "Este es un apartado muy interesante, pues habla de que este lenguaje de programación te puede ayudar a diversas áreas bastante especializadas, como el machine learnig y la ciencia de datos.\n",
    "\n",
    "__7.\tAdopt test driven development__\n",
    "\n",
    "Esta última ventaja en mi opinión fue la más técnica, sin embargo, se explicó que mediante los códigos de python se pueden hacer Test Driven Development de una forma fácil.\n",
    "\n",
    "<img style=\"float: left\" src=\"https://www.muycomputerpro.com/wp-content/uploads/2020/07/python-lenguaje-programacion-popular-cobol.jpg\" width=\"300px\" />\n",
    "\n",
    "<img style=\"float: right; margin: -170px 350px ;\" src=\"https://i.ytimg.com/vi/Z4AOP7-b1RM/maxresdefault.jpg\" width=\"300px\"/>\n",
    "\n",
    "<img style=\"float: right; margin: -170px 30px ;\" src=\"https://encrypted-tbn0.gstatic.com/images?q=tbn%3AANd9GcS_7cbUQ9XMZP7Ek8sU3-aeWdNQVDJ1eT7UaeBuiUnSxQ&usqp=CAU&ec=45695923\" width=\"280px\"/>\n",
    "\n",
    "<br><br><br><br><br><br><br><br><br><br><br><br><br><br>"
   ]
  },
  {
   "cell_type": "markdown",
   "metadata": {},
   "source": [
    "# <font color=#cc9c64>Why Python is so popular with developers: 3 reasons the language has exploded</font> \n",
    "\n",
    "Al igual que la mayoría de los artículos, este comienza hablando del increible aumento en la popularidad de Python, menciona algunos casos y ejemplos de personas que piensan que Python está incorporándose a todo tipo de trabajos. Otros comentarios acerca de Python eran que muchísimas universidades en estados unidos están implementando este lenguaje para enseñarselo a los estudiantes primerizos en programación.\n",
    "\n",
    "Posteriormente, se mencionan 3 razones por lo cual Python está dominando el internet.\n",
    "\n",
    "___1.Ease of learning___\n",
    "\n",
    "Comentan que una gran ventaja que demuestra python es su bastante sencilla sintaxis, para progrnar cosas utilizas bastantes palabras en inglés, lo que ayuda a las personas primerizas en la programación.\n",
    "\n",
    "___2. The explosion of AI, data science and machne learning in the enterprise___\n",
    "\n",
    "En este apartado comentan que ha habido un incremento increíble en cuanto a las busquedas y usos de machine learning, inteligencias artificiales y análisis de datos, las personas prefieren usar este lenguaje para hacer estos trabajos.\n",
    "\n",
    "___3. A larger developer community___\n",
    "\n",
    "Esta ventaja particularmente se me hizo muy interesante pues habla que hay librerías para todo, desde análisis matemáticos complejos hasta librerías para hacer videojuegos. Hay una comunidad enorme y muy participativa, por lo que si tienes algún problema, existe mucha gente que te puede ayudar rápidamente.\n",
    "\n",
    "<img style=\"float: left\" src=\"https://www.ecestaticos.com/imagestatic/clipping/425/0cf/4250cfb37e57751eb759afd9c362139e/generacion-high-score-en-netflix-de-locos-de-los-videojuegos-a-millonarios.jpg?mtime=1598695177\" width=\"300px\" />\n",
    "\n",
    "<img style=\"float: right; margin: -170px 350px ;\" src=\"https://imagenes.20minutos.es/files/image_656_370/uploads/imagenes/2019/04/25/882598.jpg\" width=\"300px\"/>\n",
    "\n",
    "<img style=\"float: right; margin: -170px 30px ;\" src=\"https://pulsosocial.com/wp-content/uploads/2017/01/python-3-e1483718795525-990x601.jpg\" width=\"280px\"/>\n",
    "<br><br><br><br><br><br><br><br><br><br><br><br><br><br>"
   ]
  },
  {
   "cell_type": "code",
   "execution_count": null,
   "metadata": {},
   "outputs": [],
   "source": []
  }
 ],
 "metadata": {
  "kernelspec": {
   "display_name": "Python 3",
   "language": "python",
   "name": "python3"
  },
  "language_info": {
   "codemirror_mode": {
    "name": "ipython",
    "version": 3
   },
   "file_extension": ".py",
   "mimetype": "text/x-python",
   "name": "python",
   "nbconvert_exporter": "python",
   "pygments_lexer": "ipython3",
   "version": "3.7.6"
  }
 },
 "nbformat": 4,
 "nbformat_minor": 4
}
